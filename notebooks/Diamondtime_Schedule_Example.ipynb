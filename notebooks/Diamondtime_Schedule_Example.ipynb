{
  "nbformat": 4,
  "nbformat_minor": 0,
  "metadata": {
    "colab": {
      "provenance": []
    },
    "kernelspec": {
      "name": "python3",
      "display_name": "Python 3"
    },
    "language_info": {
      "name": "python"
    }
  },
  "cells": [
    {
      "cell_type": "markdown",
      "source": [
        "# Game schedule generation ⚾\n",
        "\n",
        "This notebook illustrates how to generate a game schedule for a sports season using [**diamondtime**](https://github.com/jonathanmcmahon/diamondtime).\n",
        "\n",
        "### How to use:\n",
        "\n",
        "* **Step 1:** Edit the config files below to reflect your teams, fields, weeks, and game slots.\n",
        "\n",
        "* **Step 2:** Run all the cells below by one of the following methods:\n",
        "  * a) Go to top menu and click **Runtime -> Run all**, or\n",
        "  * b) Click the ▶ (Run) button next to the left of each cell below, in order\n",
        "\n",
        "* **Step 3:** Scroll down to see the schedule.\n",
        "\n",
        "* **Step 4:** Download the schedule. Click the 📁 button on the left and look for `schedule.csv`.\n"
      ],
      "metadata": {
        "id": "7d-V0ztENBVP"
      }
    },
    {
      "cell_type": "markdown",
      "source": [
        "### Set up diamondtime projecct"
      ],
      "metadata": {
        "id": "h0vPqvqPNnk2"
      }
    },
    {
      "cell_type": "code",
      "execution_count": null,
      "metadata": {
        "colab": {
          "base_uri": "https://localhost:8080/"
        },
        "id": "K1gr5QF0McwR",
        "outputId": "c09070e7-0b67-4b1e-b1bb-7bb672551611"
      },
      "outputs": [
        {
          "output_type": "stream",
          "name": "stdout",
          "text": [
            "  Installing build dependencies ... \u001b[?25l\u001b[?25hdone\n",
            "  Getting requirements to build wheel ... \u001b[?25l\u001b[?25hdone\n",
            "  Preparing metadata (pyproject.toml) ... \u001b[?25l\u001b[?25hdone\n",
            "\u001b[2K   \u001b[90m━━━━━━━━━━━━━━━━━━━━━━━━━━━━━━━━━━━━━━━━\u001b[0m \u001b[32m24.9/24.9 MB\u001b[0m \u001b[31m35.9 MB/s\u001b[0m eta \u001b[36m0:00:00\u001b[0m\n",
            "\u001b[2K   \u001b[90m━━━━━━━━━━━━━━━━━━━━━━━━━━━━━━━━━━━━━━━━\u001b[0m \u001b[32m133.7/133.7 kB\u001b[0m \u001b[31m7.7 MB/s\u001b[0m eta \u001b[36m0:00:00\u001b[0m\n",
            "\u001b[2K   \u001b[90m━━━━━━━━━━━━━━━━━━━━━━━━━━━━━━━━━━━━━━━━\u001b[0m \u001b[32m319.7/319.7 kB\u001b[0m \u001b[31m17.9 MB/s\u001b[0m eta \u001b[36m0:00:00\u001b[0m\n",
            "\u001b[?25h  Building wheel for diamondtime (pyproject.toml) ... \u001b[?25l\u001b[?25hdone\n"
          ]
        }
      ],
      "source": [
        "# Clone the repo\n",
        "!git clone -q https://github.com/jonathanmcmahon/diamondtime.git\n",
        "\n",
        "!pip install -q diamondtime/"
      ]
    },
    {
      "cell_type": "markdown",
      "source": [
        "### Define the season configuration and constraint files\n",
        "\n",
        "Define the season in the `config.yaml` file, including the teams, the fields, the weeks of the season, and the weekly game slots that exist for each field."
      ],
      "metadata": {
        "id": "m1Yq5p-RNsFh"
      }
    },
    {
      "cell_type": "markdown",
      "source": [
        "#### Season settings\n",
        "\n",
        "Edit the cell below to add teams, fields, weeks, and time slots. A slot is not specific to each field; time slots are assumed to apply to all fields.\n",
        "\n",
        "Make sure to hit the ▶ (Run) button next to the cell to save the file after editing it."
      ],
      "metadata": {
        "id": "4VIWC85VRI9h"
      }
    },
    {
      "cell_type": "code",
      "source": [
        "%%writefile config.yaml\n",
        "teams:\n",
        "  - \"Aaron\"\n",
        "  - \"Brett\"\n",
        "  - \"Cobb\"\n",
        "  - \"DiMaggio\"\n",
        "  - \"Eckersley\"\n",
        "  - \"Feller\"\n",
        "\n",
        "fields:\n",
        "  - \"Little League Upper\"\n",
        "  - \"Little League Lower\"\n",
        "\n",
        "# Week names (can be dates or descriptive names)\n",
        "weeks:\n",
        "  - Apr 6\n",
        "  - Apr 13\n",
        "  - Apr 20\n",
        "  - Apr 27\n",
        "  - May 4\n",
        "  - May 11\n",
        "  - May 18\n",
        "  - May 25\n",
        "  - Jun 1\n",
        "\n",
        "# Game slots (time slots that exist for every field each week)\n",
        "slots:\n",
        "  - \"Tue 6:00pm-8:00pm\"\n",
        "  - \"Wed 6:00pm-8:00pm\"\n",
        "  - \"Thu 6:00pm-8:00pm\""
      ],
      "metadata": {
        "id": "h80dWWa2NA2E",
        "colab": {
          "base_uri": "https://localhost:8080/"
        },
        "outputId": "2dc7df9c-940b-45ba-e365-76c5bc5abbe7"
      },
      "execution_count": null,
      "outputs": [
        {
          "output_type": "stream",
          "name": "stdout",
          "text": [
            "Writing config.yaml\n"
          ]
        }
      ]
    },
    {
      "cell_type": "markdown",
      "source": [
        "#### Constraints\n",
        "\n",
        "Edit the cell below to add any constraints.\n",
        "\n",
        "Make sure you click the ▶ (Run) button next to the cell to save the file after editing it."
      ],
      "metadata": {
        "id": "3wHDliniRNsN"
      }
    },
    {
      "cell_type": "code",
      "source": [
        "%%writefile constraints.yaml\n",
        "team_unavailable:\n",
        "  - team: Aaron\n",
        "    week: Apr 6\n",
        "    slot: Wed 6:00pm-8:00pm\n",
        "    comment: Aaron unavailable on this afternoon\n",
        "  - team: DiMaggio\n",
        "    week: Apr 13\n",
        "    comment: DiMaggio completely unavailable on April 13\n",
        "\n",
        "field_unavailable:\n",
        "  - field: Little League Upper\n",
        "    week: Apr 20\n",
        "    slot: Wed 6:00pm-8:00pm\n",
        "    comment: Upper field unavailable for maintenance\n",
        "\n",
        "team_prefers_not:\n",
        "  - team: Cobb\n",
        "    week: Apr 27\n",
        "    weight: 8\n",
        "    comment: Cobb strongly prefers not to play on March 23\n",
        "  - team: Eckersley\n",
        "    week: May 4\n",
        "    slot: Thu 6:00pm-8:00pm\n",
        "    weight: 3\n",
        "    comment: Team slightly prefers not to play Thu games\n",
        "\n",
        "field_preference:\n",
        "  - team: Feller\n",
        "    field: Little League Upper\n",
        "    weight: 15\n",
        "    comment: Feller strongly prefers playing at the Upper Field\n"
      ],
      "metadata": {
        "id": "flDaWC_zRN_G",
        "colab": {
          "base_uri": "https://localhost:8080/"
        },
        "outputId": "e717e14d-8f3d-4595-c2c2-d27e2aa5dcec"
      },
      "execution_count": null,
      "outputs": [
        {
          "output_type": "stream",
          "name": "stdout",
          "text": [
            "Writing constraints.yaml\n"
          ]
        }
      ]
    },
    {
      "cell_type": "markdown",
      "source": [
        "### Generate the schedule\n",
        "\n",
        "Use the `--series-length` argument to define how many games each pair of teams should play against each other (default is 2, and this value must be even to ensure an equal number of home/away games in each series).\n",
        "\n",
        "Click the ▶ (Run) button next to the cell below to generate the schedule. Scroll down to see the output."
      ],
      "metadata": {
        "id": "VUvC8GTKIHi0"
      }
    },
    {
      "cell_type": "code",
      "source": [
        "%%python3 diamondtime/diamondtime.py config.yaml --series-length 2 --constraints constraints.yaml"
      ],
      "metadata": {
        "colab": {
          "base_uri": "https://localhost:8080/"
        },
        "id": "iuKElogZI335",
        "outputId": "92948cd7-c9a4-4318-8f04-bc147c663d0e"
      },
      "execution_count": null,
      "outputs": [
        {
          "output_type": "stream",
          "name": "stdout",
          "text": [
            "⚾⚾⚾  DiamondTime Season Scheduler  ⚾⚾⚾\n",
            "\n",
            "🌭 Season config loaded:\n",
            "\n",
            "Season(\n",
            "    teams=['Aaron', 'Brett', 'Cobb', 'DiMaggio', 'Eckersley', 'Feller'],\n",
            "    fields=['Little League Upper', 'Little League Lower'],\n",
            "    weeks=['Apr 6', 'Apr 13', 'Apr 20', 'Apr 27', 'May 4', 'May 11', 'May 18', 'May 25', 'Jun 1'],\n",
            "    slots=['Tue 6:00pm-8:00pm', 'Wed 6:00pm-8:00pm', 'Thu 6:00pm-8:00pm']\n",
            ")\n",
            "\n",
            "🌭 Constraints loaded:\n",
            "\n",
            "ConstraintSpecification(\n",
            "    team_unavailable=[\n",
            "        TeamUnavailable(team='Aaron', week='Apr 6', slot='Wed 6:00pm-8:00pm'),\n",
            "        TeamUnavailable(team='DiMaggio', week='Apr 13', slot=None)\n",
            "    ],\n",
            "    field_unavailable=[\n",
            "        FieldUnavailable(field='Little League Upper', week='Apr 20', slot='Wed 6:00pm-8:00pm')\n",
            "    ],\n",
            "    field_preference=[FieldPreference(team='Feller', field='Little League Upper', weight=15)],\n",
            "    team_prefers_not=[\n",
            "        TeamPrefersNot(team='Cobb', week='Apr 27', slot=None, weight=8),\n",
            "        TeamPrefersNot(team='Eckersley', week='May 4', slot='Thu 6:00pm-8:00pm', weight=3)\n",
            "    ]\n",
            ")\n",
            "\n",
            "==============================================================================\n",
            "\n",
            "                              🏟️ Season Schedule                              \n",
            "\n",
            "      week               slot       home       away                field\n",
            "0    Apr 6  Tue 6:00pm-8:00pm     Feller  Eckersley  Little League Upper\n",
            "1    Apr 6  Tue 6:00pm-8:00pm  Eckersley   DiMaggio  Little League Lower\n",
            "2    Apr 6  Wed 6:00pm-8:00pm  Eckersley     Feller  Little League Upper\n",
            "3    Apr 6  Wed 6:00pm-8:00pm     Feller       Cobb  Little League Lower\n",
            "4    Apr 6  Thu 6:00pm-8:00pm     Feller   DiMaggio  Little League Upper\n",
            "5    Apr 6  Thu 6:00pm-8:00pm  Eckersley       Cobb  Little League Lower\n",
            "6   Apr 13  Tue 6:00pm-8:00pm       Cobb     Feller  Little League Upper\n",
            "7   Apr 13  Tue 6:00pm-8:00pm  Eckersley      Brett  Little League Lower\n",
            "8   Apr 13  Wed 6:00pm-8:00pm     Feller      Brett  Little League Upper\n",
            "9   Apr 13  Wed 6:00pm-8:00pm       Cobb      Brett  Little League Lower\n",
            "10  Apr 13  Thu 6:00pm-8:00pm      Brett  Eckersley  Little League Upper\n",
            "11  Apr 13  Thu 6:00pm-8:00pm     Feller      Aaron  Little League Lower\n",
            "12  Apr 20  Tue 6:00pm-8:00pm   DiMaggio     Feller  Little League Upper\n",
            "13  Apr 20  Tue 6:00pm-8:00pm   DiMaggio      Brett  Little League Lower\n",
            "14  Apr 20  Wed 6:00pm-8:00pm   DiMaggio       Cobb  Little League Upper\n",
            "15  Apr 20  Wed 6:00pm-8:00pm  Eckersley      Aaron  Little League Lower\n",
            "16  Apr 20  Thu 6:00pm-8:00pm       Cobb  Eckersley  Little League Upper\n",
            "17  Apr 20  Thu 6:00pm-8:00pm   DiMaggio      Aaron  Little League Lower\n",
            "18  Apr 27  Tue 6:00pm-8:00pm   DiMaggio  Eckersley  Little League Upper\n",
            "19  Apr 27  Tue 6:00pm-8:00pm      Brett      Aaron  Little League Lower\n",
            "20  Apr 27  Wed 6:00pm-8:00pm      Brett     Feller  Little League Upper\n",
            "21  Apr 27  Thu 6:00pm-8:00pm       Cobb      Aaron  Little League Upper\n",
            "22   May 4  Tue 6:00pm-8:00pm       Cobb   DiMaggio  Little League Upper\n",
            "23   May 4  Thu 6:00pm-8:00pm      Aaron      Brett  Little League Upper\n",
            "24  May 11  Tue 6:00pm-8:00pm      Brett   DiMaggio  Little League Upper\n",
            "25  May 11  Wed 6:00pm-8:00pm      Aaron       Cobb  Little League Upper\n",
            "26  May 18  Tue 6:00pm-8:00pm      Brett       Cobb  Little League Upper\n",
            "27  May 18  Wed 6:00pm-8:00pm      Aaron     Feller  Little League Upper\n",
            "28  May 25  Tue 6:00pm-8:00pm      Aaron   DiMaggio  Little League Upper\n",
            "29   Jun 1  Tue 6:00pm-8:00pm      Aaron  Eckersley  Little League Upper\n",
            "\n",
            "\n",
            "\n"
          ]
        }
      ]
    },
    {
      "cell_type": "markdown",
      "source": [
        "### Write the schedule to a csv file\n",
        "\n",
        "You can easily export the schedule to a csv or json file."
      ],
      "metadata": {
        "id": "yR2hKZaAVCiI"
      }
    },
    {
      "cell_type": "code",
      "source": [
        "!python3 diamondtime/diamondtime.py config.yaml --series-length 2 --constraints constraints.yaml --out schedule.csv"
      ],
      "metadata": {
        "colab": {
          "base_uri": "https://localhost:8080/"
        },
        "id": "aaiyn1n3VK2t",
        "outputId": "c435f71e-db47-4764-e6b6-cb2df5133ba5"
      },
      "execution_count": null,
      "outputs": [
        {
          "output_type": "stream",
          "name": "stdout",
          "text": [
            "⚾⚾⚾  DiamondTime Season Scheduler  ⚾⚾⚾\n",
            "\n",
            "🌭 Season config loaded:\n",
            "\n",
            "\u001b[1;35mSeason\u001b[0m\u001b[1m(\u001b[0m\n",
            "    \u001b[33mteams\u001b[0m=\u001b[1m[\u001b[0m\u001b[32m'Aaron'\u001b[0m, \u001b[32m'Brett'\u001b[0m, \u001b[32m'Cobb'\u001b[0m, \u001b[32m'DiMaggio'\u001b[0m, \u001b[32m'Eckersley'\u001b[0m, \u001b[32m'Feller'\u001b[0m\u001b[1m]\u001b[0m,\n",
            "    \u001b[33mfields\u001b[0m=\u001b[1m[\u001b[0m\u001b[32m'Little League Upper'\u001b[0m, \u001b[32m'Little League Lower'\u001b[0m\u001b[1m]\u001b[0m,\n",
            "    \u001b[33mweeks\u001b[0m=\u001b[1m[\u001b[0m\u001b[32m'Apr 6'\u001b[0m, \u001b[32m'Apr 13'\u001b[0m, \u001b[32m'Apr 20'\u001b[0m, \u001b[32m'Apr 27'\u001b[0m, \u001b[32m'May 4'\u001b[0m, \u001b[32m'May 11'\u001b[0m, \u001b[32m'May 18'\u001b[0m, \u001b[32m'May 25'\u001b[0m, \u001b[32m'Jun 1'\u001b[0m\u001b[1m]\u001b[0m,\n",
            "    \u001b[33mslots\u001b[0m=\u001b[1m[\u001b[0m\u001b[32m'Tue 6:00pm-8:00pm'\u001b[0m, \u001b[32m'Wed 6:00pm-8:00pm'\u001b[0m, \u001b[32m'Thu 6:00pm-8:00pm'\u001b[0m\u001b[1m]\u001b[0m\n",
            "\u001b[1m)\u001b[0m\n",
            "\n",
            "🌭 Constraints loaded:\n",
            "\n",
            "\u001b[1;35mConstraintSpecification\u001b[0m\u001b[1m(\u001b[0m\n",
            "    \u001b[33mteam_unavailable\u001b[0m=\u001b[1m[\u001b[0m\n",
            "        \u001b[1;35mTeamUnavailable\u001b[0m\u001b[1m(\u001b[0m\u001b[33mteam\u001b[0m=\u001b[32m'Aaron'\u001b[0m, \u001b[33mweek\u001b[0m=\u001b[32m'Apr 6'\u001b[0m, \u001b[33mslot\u001b[0m=\u001b[32m'Wed 6:00pm-8:00pm'\u001b[0m\u001b[1m)\u001b[0m,\n",
            "        \u001b[1;35mTeamUnavailable\u001b[0m\u001b[1m(\u001b[0m\u001b[33mteam\u001b[0m=\u001b[32m'DiMaggio'\u001b[0m, \u001b[33mweek\u001b[0m=\u001b[32m'Apr 13'\u001b[0m, \u001b[33mslot\u001b[0m=\u001b[3;35mNone\u001b[0m\u001b[1m)\u001b[0m\n",
            "    \u001b[1m]\u001b[0m,\n",
            "    \u001b[33mfield_unavailable\u001b[0m=\u001b[1m[\u001b[0m\n",
            "        \u001b[1;35mFieldUnavailable\u001b[0m\u001b[1m(\u001b[0m\u001b[33mfield\u001b[0m=\u001b[32m'Little League Upper'\u001b[0m, \u001b[33mweek\u001b[0m=\u001b[32m'Apr 20'\u001b[0m, \u001b[33mslot\u001b[0m=\u001b[32m'Wed 6:00pm-8:00pm'\u001b[0m\u001b[1m)\u001b[0m\n",
            "    \u001b[1m]\u001b[0m,\n",
            "    \u001b[33mfield_preference\u001b[0m=\u001b[1m[\u001b[0m\u001b[1;35mFieldPreference\u001b[0m\u001b[1m(\u001b[0m\u001b[33mteam\u001b[0m=\u001b[32m'Feller'\u001b[0m, \u001b[33mfield\u001b[0m=\u001b[32m'Little League Upper'\u001b[0m, \u001b[33mweight\u001b[0m=\u001b[1;36m15\u001b[0m\u001b[1m)\u001b[0m\u001b[1m]\u001b[0m,\n",
            "    \u001b[33mteam_prefers_not\u001b[0m=\u001b[1m[\u001b[0m\n",
            "        \u001b[1;35mTeamPrefersNot\u001b[0m\u001b[1m(\u001b[0m\u001b[33mteam\u001b[0m=\u001b[32m'Cobb'\u001b[0m, \u001b[33mweek\u001b[0m=\u001b[32m'Apr 27'\u001b[0m, \u001b[33mslot\u001b[0m=\u001b[3;35mNone\u001b[0m, \u001b[33mweight\u001b[0m=\u001b[1;36m8\u001b[0m\u001b[1m)\u001b[0m,\n",
            "        \u001b[1;35mTeamPrefersNot\u001b[0m\u001b[1m(\u001b[0m\u001b[33mteam\u001b[0m=\u001b[32m'Eckersley'\u001b[0m, \u001b[33mweek\u001b[0m=\u001b[32m'May 4'\u001b[0m, \u001b[33mslot\u001b[0m=\u001b[32m'Thu 6:00pm-8:00pm'\u001b[0m, \u001b[33mweight\u001b[0m=\u001b[1;36m3\u001b[0m\u001b[1m)\u001b[0m\n",
            "    \u001b[1m]\u001b[0m\n",
            "\u001b[1m)\u001b[0m\n",
            "\n",
            "==============================================================================\n",
            "\n",
            "                              🏟️ Season Schedule                              \n",
            "\n",
            "      week               slot       home       away                field\n",
            "0    Apr 6  Tue 6:00pm-8:00pm       Cobb   DiMaggio  Little League Upper\n",
            "1    Apr 6  Wed 6:00pm-8:00pm     Feller   DiMaggio  Little League Upper\n",
            "2    Apr 6  Wed 6:00pm-8:00pm  Eckersley   DiMaggio  Little League Lower\n",
            "3    Apr 6  Thu 6:00pm-8:00pm     Feller  Eckersley  Little League Upper\n",
            "4   Apr 13  Tue 6:00pm-8:00pm      Brett  Eckersley  Little League Upper\n",
            "5   Apr 13  Wed 6:00pm-8:00pm       Cobb      Brett  Little League Lower\n",
            "6   Apr 13  Thu 6:00pm-8:00pm  Eckersley      Aaron  Little League Upper\n",
            "7   Apr 20  Tue 6:00pm-8:00pm  Eckersley     Feller  Little League Upper\n",
            "8   Apr 20  Tue 6:00pm-8:00pm     Feller       Cobb  Little League Lower\n",
            "9   Apr 20  Wed 6:00pm-8:00pm     Feller      Brett  Little League Upper\n",
            "10  Apr 20  Wed 6:00pm-8:00pm   DiMaggio       Cobb  Little League Lower\n",
            "11  Apr 20  Thu 6:00pm-8:00pm      Brett   DiMaggio  Little League Upper\n",
            "12  Apr 20  Thu 6:00pm-8:00pm   DiMaggio      Aaron  Little League Lower\n",
            "13  Apr 27  Tue 6:00pm-8:00pm      Aaron      Brett  Little League Upper\n",
            "14  Apr 27  Wed 6:00pm-8:00pm   DiMaggio      Brett  Little League Lower\n",
            "15  Apr 27  Thu 6:00pm-8:00pm   DiMaggio     Feller  Little League Upper\n",
            "16   May 4  Tue 6:00pm-8:00pm       Cobb      Aaron  Little League Upper\n",
            "17   May 4  Wed 6:00pm-8:00pm  Eckersley       Cobb  Little League Upper\n",
            "18   May 4  Thu 6:00pm-8:00pm      Aaron       Cobb  Little League Upper\n",
            "19  May 11  Tue 6:00pm-8:00pm      Aaron   DiMaggio  Little League Upper\n",
            "20  May 11  Tue 6:00pm-8:00pm  Eckersley      Brett  Little League Lower\n",
            "21  May 11  Thu 6:00pm-8:00pm       Cobb  Eckersley  Little League Upper\n",
            "22  May 18  Tue 6:00pm-8:00pm     Feller      Aaron  Little League Upper\n",
            "23  May 18  Wed 6:00pm-8:00pm   DiMaggio  Eckersley  Little League Upper\n",
            "24  May 18  Thu 6:00pm-8:00pm      Brett     Feller  Little League Upper\n",
            "25  May 25  Wed 6:00pm-8:00pm      Brett       Cobb  Little League Upper\n",
            "26  May 25  Thu 6:00pm-8:00pm      Aaron     Feller  Little League Upper\n",
            "27   Jun 1  Tue 6:00pm-8:00pm      Aaron  Eckersley  Little League Upper\n",
            "28   Jun 1  Wed 6:00pm-8:00pm      Brett      Aaron  Little League Upper\n",
            "29   Jun 1  Thu 6:00pm-8:00pm       Cobb     Feller  Little League Upper\n",
            "\n",
            "\n",
            "\n",
            "Saving schedule to schedule.csv\n"
          ]
        }
      ]
    }
  ]
}